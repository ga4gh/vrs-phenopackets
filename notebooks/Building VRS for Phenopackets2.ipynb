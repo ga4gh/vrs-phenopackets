{
 "cells": [
  {
   "cell_type": "markdown",
   "id": "df195785-3104-4a62-9f6e-0716e7bca71a",
   "metadata": {},
   "source": [
    "# Building VRS objects for Phenopackets v2\n",
    "\n",
    "This notebook generates VRS objects for use in Phenopackets, as described in *GA4GH Phenopackets: A practical introduction*."
   ]
  },
  {
   "cell_type": "markdown",
   "id": "72df3601-e227-44a3-9030-55d1d6492552",
   "metadata": {},
   "source": [
    "First, we will want to import VRS Python, the reference implementation for generating VRS objects. We are going to use the `0.7` version of VRS Python, which corresponds to VRS version `1.2`, as used in Phenopackets.\n",
    "\n",
    "We are also going to use the VRS python Extras, including the SeqRepo package for sequence lookups."
   ]
  },
  {
   "cell_type": "code",
   "execution_count": 1,
   "id": "627c44ba-8a58-45e4-8655-45b5413ec0c0",
   "metadata": {},
   "outputs": [
    {
     "name": "stderr",
     "output_type": "stream",
     "text": [
      "Removing allOf attribute from CopyNumber to avoid python-jsonschema-objects error.\n",
      "Removing allOf attribute from SequenceInterval to avoid python-jsonschema-objects error.\n",
      "Removing allOf attribute from RepeatedSequenceExpression to avoid python-jsonschema-objects error.\n",
      "/Users/ahw001/.local/share/virtualenvs/vrs-phenopackets-4Z1ga_iF/lib/python3.9/site-packages/python_jsonschema_objects/__init__.py:49: UserWarning: Schema version http://json-schema.org/draft-07/schema not recognized. Some keywords and features may not be supported.\n",
      "  warnings.warn(\n"
     ]
    }
   ],
   "source": [
    "from ga4gh import vrs, core\n",
    "from ga4gh.vrs.dataproxy import SeqRepoDataProxy\n",
    "from biocommons.seqrepo import SeqRepo\n",
    "from ga4gh.vrs.extras.translator import Translator\n",
    "from copy import deepcopy\n",
    "\n",
    "dp = SeqRepoDataProxy(SeqRepo('/usr/local/share/seqrepo/latest'))\n",
    "tlr = Translator(dp)"
   ]
  },
  {
   "cell_type": "code",
   "execution_count": 2,
   "id": "2b3ef1aa-09cf-41db-ad1e-99dbeda35fc9",
   "metadata": {},
   "outputs": [
    {
     "data": {
      "text/plain": [
       "'0.7.4'"
      ]
     },
     "execution_count": 2,
     "metadata": {},
     "output_type": "execute_result"
    }
   ],
   "source": [
    "# NOTE: VRS here is the VRS Python package, not the VRS specification; \n",
    "# accordingly vrs.__version__ is the VRS Python version. \n",
    "# Phenopackets v2 requires VRS Python v0.7.x, which is based on VRS 1.2\n",
    "vrs.__version__"
   ]
  },
  {
   "cell_type": "markdown",
   "id": "49c7fe64-6978-4558-ba54-3c7ce5647733",
   "metadata": {},
   "source": [
    "## Example 1\n",
    "> ... The detected values were relatively low but within the normal range and a complete RB1 deletion in mosaicism was suspected. A genomic SNP array (AffymetrixCytoScan 750 array) was performed and a 13q deletion of 35.7 Mb from 13q12.13 to 13q21.2 (arr[hg19] 13q12.13q21.2(26,555,387–62,280,955) × 1–2) detected in around 40% of cells was confirmed.\n",
    "\n",
    "This example will demonstrate how to specify the above using VRS and VRSATILE.\n",
    "\n",
    "First, we identify the sequence on which the deletion occurred. We could start by retrieving the sequence identifier for [GRCh37 chromosome 13](https://www.ncbi.nlm.nih.gov/nuccore/NC_000013.10):"
   ]
  },
  {
   "cell_type": "code",
   "execution_count": 3,
   "id": "e6f9d9e1-576c-43bb-8169-862ca86a9d9b",
   "metadata": {},
   "outputs": [
    {
     "data": {
      "text/plain": [
       "'ga4gh:SQ.Ewb9qlgTqN6e_XQiRVYpoUfZJHXeiUfH'"
      ]
     },
     "execution_count": 3,
     "metadata": {},
     "output_type": "execute_result"
    }
   ],
   "source": [
    "def translate_sequence_alias_to_ga4gh_id(sequence_alias):\n",
    "    translated_ids = dp.translate_sequence_identifier(sequence_alias,'ga4gh')\n",
    "    assert len(translated_ids) == 1 # Any given sequence should only have 1 GA4GH-namespaced identifier\n",
    "    return translated_ids[0]\n",
    "    \n",
    "chr13_grch37_ga4gh_seq_id = translate_sequence_alias_to_ga4gh_id('GRCh37:chr13')\n",
    "chr13_grch37_ga4gh_seq_id"
   ]
  },
  {
   "cell_type": "markdown",
   "id": "da945a79-40a4-4e0c-8b3d-aec4ca09009c",
   "metadata": {},
   "source": [
    "The above sequence ID is useful to capture in VRS messages because it is data-driven; it can be derived from your local reference sequence and guarantees equivalence across all identical sequences regardless of accession. We can see a few of these with a metadata lookup:"
   ]
  },
  {
   "cell_type": "code",
   "execution_count": 4,
   "id": "9ac7c96f-fe12-46d3-ace0-5367c573297d",
   "metadata": {},
   "outputs": [
    {
     "data": {
      "text/plain": [
       "{'length': 115169878,\n",
       " 'alphabet': 'ACGNT',\n",
       " 'added': '2016-08-24T05:10:23Z',\n",
       " 'aliases': ['GRCh37:13',\n",
       "  'GRCh37:chr13',\n",
       "  'GRCh37.p10:13',\n",
       "  'GRCh37.p10:chr13',\n",
       "  'GRCh37.p11:13',\n",
       "  'GRCh37.p11:chr13',\n",
       "  'GRCh37.p12:13',\n",
       "  'GRCh37.p12:chr13',\n",
       "  'GRCh37.p13:13',\n",
       "  'GRCh37.p13:chr13',\n",
       "  'GRCh37.p2:13',\n",
       "  'GRCh37.p2:chr13',\n",
       "  'GRCh37.p5:13',\n",
       "  'GRCh37.p5:chr13',\n",
       "  'GRCh37.p9:13',\n",
       "  'GRCh37.p9:chr13',\n",
       "  'MD5:283f8d7892baa81b510a015719ca7b0b',\n",
       "  'NCBI:NC_000013.10',\n",
       "  'refseq:NC_000013.10',\n",
       "  'SEGUID:oYfOuGjgq2YenMDoPeWgsO+hJRI',\n",
       "  'SHA1:a187ceb868e0ab661e9cc0e83de5a0b0efa12512',\n",
       "  'VMC:GS_Ewb9qlgTqN6e_XQiRVYpoUfZJHXeiUfH',\n",
       "  'sha512t24u:Ewb9qlgTqN6e_XQiRVYpoUfZJHXeiUfH',\n",
       "  'ga4gh:SQ.Ewb9qlgTqN6e_XQiRVYpoUfZJHXeiUfH',\n",
       "  'hs37-1kg:13',\n",
       "  'hs37d5:13']}"
      ]
     },
     "execution_count": 4,
     "metadata": {},
     "output_type": "execute_result"
    }
   ],
   "source": [
    "dp.get_metadata('ga4gh:SQ.Ewb9qlgTqN6e_XQiRVYpoUfZJHXeiUfH')"
   ]
  },
  {
   "cell_type": "markdown",
   "id": "c6b98042-bf90-44b7-9ffc-09d604509bc7",
   "metadata": {},
   "source": [
    "With our knowledge of the sequence identifier, we can now define an interval on that sequence to describe the location of the deletion:"
   ]
  },
  {
   "cell_type": "code",
   "execution_count": 5,
   "id": "e21e69eb-3b12-4682-8f2d-6349bdf20c23",
   "metadata": {},
   "outputs": [],
   "source": [
    "location_start = vrs.models.Number(value=26555377) # NOTE: VRS uses inter-residue coordinates\n",
    "location_end   = vrs.models.Number(value=62280955)\n",
    "interval = vrs.models.SequenceInterval(start=location_start, end=location_end)\n",
    "\n",
    "deletion_location = vrs.models.SequenceLocation(sequence_id=chr13_grch37_ga4gh_seq_id, interval=interval)"
   ]
  },
  {
   "cell_type": "markdown",
   "id": "0eef23c4-ab5f-450d-bf76-3ca78e1a7235",
   "metadata": {},
   "source": [
    "From there, we describe a single-copy state of the location using a CopyNumber variation, along with its globally-unique computed identifier:"
   ]
  },
  {
   "cell_type": "code",
   "execution_count": 6,
   "id": "04ddfe9e-6a2f-42e1-9291-bb5f580aba85",
   "metadata": {},
   "outputs": [
    {
     "data": {
      "text/plain": [
       "{'_id': 'ga4gh:VCN.AFfJws1M4Lg8w1O3XknmHYc9TU2hHYpp',\n",
       " 'type': 'CopyNumber',\n",
       " 'subject': {'type': 'DerivedSequenceExpression',\n",
       "  'location': {'type': 'SequenceLocation',\n",
       "   'sequence_id': 'ga4gh:SQ.Ewb9qlgTqN6e_XQiRVYpoUfZJHXeiUfH',\n",
       "   'interval': {'type': 'SequenceInterval',\n",
       "    'start': {'type': 'Number', 'value': 26555377},\n",
       "    'end': {'type': 'Number', 'value': 62280955}}},\n",
       "  'reverse_complement': False},\n",
       " 'copies': {'type': 'Number', 'value': 1}}"
      ]
     },
     "execution_count": 6,
     "metadata": {},
     "output_type": "execute_result"
    }
   ],
   "source": [
    "dsl = vrs.models.DerivedSequenceExpression(location=deletion_location, reverse_complement=False)\n",
    "cnv = vrs.models.CopyNumber(subject=dsl, copies=vrs.models.Number(value=1))\n",
    "cnv._id = core.ga4gh_identify(cnv)\n",
    "cnv.as_dict()"
   ]
  },
  {
   "cell_type": "markdown",
   "id": "00846e87-f692-4efc-886d-d8dcb3ff9110",
   "metadata": {},
   "source": [
    "It is also allowed, but discouraged, to have VRS messages that use accessioned identifiers (e.g. NCBI:NC_000013.10) or even Genome Reference Consortium chromosome references for the `sequence_id` attribute, like so:"
   ]
  },
  {
   "cell_type": "code",
   "execution_count": 7,
   "id": "5d51afaf-51c9-4118-b7de-3591f440ec28",
   "metadata": {},
   "outputs": [
    {
     "data": {
      "text/plain": [
       "{'type': 'CopyNumber',\n",
       " 'subject': {'type': 'DerivedSequenceExpression',\n",
       "  'location': {'type': 'SequenceLocation',\n",
       "   'sequence_id': 'GRCh37:chr13',\n",
       "   'interval': {'type': 'SequenceInterval',\n",
       "    'start': {'type': 'Number', 'value': 26555377},\n",
       "    'end': {'type': 'Number', 'value': 62280955}}},\n",
       "  'reverse_complement': False},\n",
       " 'copies': {'type': 'Number', 'value': 1}}"
      ]
     },
     "execution_count": 7,
     "metadata": {},
     "output_type": "execute_result"
    }
   ],
   "source": [
    "deletion_labeled_location = vrs.models.SequenceLocation(sequence_id='GRCh37:chr13', interval=interval)\n",
    "dsl_labeled = vrs.models.DerivedSequenceExpression(location=deletion_labeled_location, reverse_complement=False)\n",
    "cnv_labeled = vrs.models.CopyNumber(subject=dsl_labeled, copies=vrs.models.Number(value=1))\n",
    "cnv_labeled.as_dict()"
   ]
  },
  {
   "cell_type": "markdown",
   "id": "cc0f72b4-934a-4a35-a974-426b69f12d34",
   "metadata": {},
   "source": [
    "An alternative approach to this is to use Variation Descriptors, part of the [VRSATILE Value Object Descriptor specification](https://vrsatile.readthedocs.io/en/latest/value_object_descriptor/index.html). Phenopackets has a [definition of Variation Descriptors as implemented in protobuf](https://github.com/phenopackets/phenopacket-schema/blob/master/src/main/proto/ga4gh/vrsatile/v1/vrsatile.proto). We will create a JSON message that leverages both the computable CNV representation from VRS, as well as relevant human-readable expressions and annotations for the event with VRSATILE:"
   ]
  },
  {
   "cell_type": "code",
   "execution_count": 8,
   "id": "93de0d1e-fea3-4a58-811b-c78d84e512d2",
   "metadata": {},
   "outputs": [
    {
     "data": {
      "text/plain": [
       "{'id': 'cnv001',\n",
       " 'variation': {'_id': 'ga4gh:VCN.AFfJws1M4Lg8w1O3XknmHYc9TU2hHYpp',\n",
       "  'type': 'CopyNumber',\n",
       "  'subject': {'type': 'DerivedSequenceExpression',\n",
       "   'location': {'type': 'SequenceLocation',\n",
       "    'sequence_id': 'ga4gh:SQ.Ewb9qlgTqN6e_XQiRVYpoUfZJHXeiUfH',\n",
       "    'interval': {'type': 'SequenceInterval',\n",
       "     'start': {'type': 'Number', 'value': 26555377},\n",
       "     'end': {'type': 'Number', 'value': 62280955}}},\n",
       "   'reverse_complement': False},\n",
       "  'copies': {'type': 'Number', 'value': 1}},\n",
       " 'label': 'arr[hg19] 13q12.13q21.2(26,555,387–62,280,955) × 1–2',\n",
       " 'molecule_context': 'genomic',\n",
       " 'expressions': [{'syntax': 'iscn', 'value': 'del(13)(p12.13p21.2)'},\n",
       "  {'syntax': 'hgvs.g',\n",
       "   'value': 'NC_000013.10:g.(26555387_62280955)del',\n",
       "   'version': '20.05'}],\n",
       " 'extensions': [{'name': 'chromosome', 'value': '13'},\n",
       "  {'name': 'cellularity', 'value': 0.4},\n",
       "  {'name': 'genome_reference', 'value': 'GRCh37'}]}"
      ]
     },
     "execution_count": 8,
     "metadata": {},
     "output_type": "execute_result"
    }
   ],
   "source": [
    "vrsatile_cnv = {\n",
    "    'id': 'cnv001',\n",
    "    'variation': cnv.as_dict(),\n",
    "    'label': 'arr[hg19] 13q12.13q21.2(26,555,387–62,280,955) × 1–2',\n",
    "    'molecule_context': 'genomic',\n",
    "    'expressions': [{\n",
    "        'syntax': 'iscn',\n",
    "        'value': 'del(13)(p12.13p21.2)'\n",
    "    },{\n",
    "        'syntax': 'hgvs.g',\n",
    "        'value': 'NC_000013.10:g.(26555387_62280955)del',\n",
    "        'version': '20.05'\n",
    "    }],\n",
    "    'extensions': [{\n",
    "        'name': 'chromosome',\n",
    "        'value': '13'\n",
    "    },{\n",
    "        'name': 'cellularity',\n",
    "        'value': 0.40\n",
    "    },{\n",
    "        'name': 'genome_reference',\n",
    "        'value': 'GRCh37'\n",
    "    }]\n",
    "}\n",
    "vrsatile_cnv"
   ]
  },
  {
   "cell_type": "markdown",
   "id": "d777c9e3-d885-424f-80d1-29fefe6f58fa",
   "metadata": {},
   "source": [
    "**NOTE:** Location-based CopyNumberVariation subjects are currently described using DerivedSequenceExpression as shown above, but we will also be allowing Location as a direct subject in an upcoming minor version release of VRS; we believe this is more intuitive for users. We will update this notebook if / when those changes are integrated into Phenopackets."
   ]
  },
  {
   "cell_type": "markdown",
   "id": "0fe42d3a-5f0e-43b6-a2f2-ba51297dcc43",
   "metadata": {},
   "source": [
    "## Example 2\n",
    ">Looking for second hit mutations in RB1, we applied a custom designed NGS panel (Onconano V2) that included the RB1, BCOR and CREBPP genes (among other 400 commonly mutated genes in pediatric cancer). The study detected only one pathogenic single-nucleotide variant, RB1 c.958C>T (p.Arg320Ter) (NM_000321.2 chromosomal position 13–48,941,648-C-T; allele frequency of 25%).\n",
    "\n",
    "For this example, we model the state of the sequence (an observed thymine) at a chromosomal location as an `Allele`:"
   ]
  },
  {
   "cell_type": "code",
   "execution_count": 9,
   "id": "ceb23b8e-3046-4d83-af36-87154444b101",
   "metadata": {},
   "outputs": [
    {
     "data": {
      "text/plain": [
       "{'_id': 'ga4gh:VA.GuPzvZoansqNHPoXkQLXKo31VkTpDKsM',\n",
       " 'type': 'Allele',\n",
       " 'location': {'type': 'SequenceLocation',\n",
       "  'sequence_id': 'ga4gh:SQ.FOWokFmA__GgqWLtqFoWWDLuNEvvGwIJ',\n",
       "  'interval': {'type': 'SequenceInterval',\n",
       "   'start': {'type': 'Number', 'value': 48941647},\n",
       "   'end': {'type': 'Number', 'value': 48941648}}},\n",
       " 'state': {'type': 'LiteralSequenceExpression', 'sequence': 'T'}}"
      ]
     },
     "execution_count": 9,
     "metadata": {},
     "output_type": "execute_result"
    }
   ],
   "source": [
    "location_start = vrs.models.Number(value=48941647)\n",
    "location_end = vrs.models.Number(value=48941648)\n",
    "substitution_interval = vrs.models.SequenceInterval(start=location_start, end=location_end)\n",
    "\n",
    "transcript_sequence_id = translate_sequence_alias_to_ga4gh_id('refseq:NM_000321.2')\n",
    "\n",
    "location = vrs.models.SequenceLocation(sequence_id=transcript_sequence_id, interval=substitution_interval)\n",
    "state = vrs.models.LiteralSequenceExpression(sequence='T')\n",
    "\n",
    "substitution = vrs.models.Allele(location=location, state=state)\n",
    "substitution._id = core.ga4gh_identify(substitution)\n",
    "\n",
    "substitution.for_json()"
   ]
  },
  {
   "cell_type": "markdown",
   "id": "b8fdfd56-f83f-4382-a3cc-ab364ba40dce",
   "metadata": {},
   "source": [
    "Again, we can extend this with VRSATILE for relevant annotations:"
   ]
  },
  {
   "cell_type": "code",
   "execution_count": 10,
   "id": "30e85d5a-849b-4277-8798-522949070a3b",
   "metadata": {},
   "outputs": [
    {
     "data": {
      "text/plain": [
       "{'id': 'allele001',\n",
       " 'variation': {'_id': 'ga4gh:VA.GuPzvZoansqNHPoXkQLXKo31VkTpDKsM',\n",
       "  'type': 'Allele',\n",
       "  'location': {'type': 'SequenceLocation',\n",
       "   'sequence_id': 'ga4gh:SQ.FOWokFmA__GgqWLtqFoWWDLuNEvvGwIJ',\n",
       "   'interval': {'type': 'SequenceInterval',\n",
       "    'start': {'type': 'Number', 'value': 48941647},\n",
       "    'end': {'type': 'Number', 'value': 48941648}}},\n",
       "  'state': {'type': 'LiteralSequenceExpression', 'sequence': 'T'}},\n",
       " 'label': 'RB1 c.958C>T (p.Arg320Ter)',\n",
       " 'molecule_context': 'transcript',\n",
       " 'gene_context': {'value_id': 'hgnc:9884', 'symbol': 'RB1'},\n",
       " 'expressions': [{'syntax': 'hgvs.c',\n",
       "   'value': 'NM_000321.2:c.958C>T',\n",
       "   'version': '20.05'}],\n",
       " 'extensions': [{'name': 'Allele Frequency', 'value': 0.25},\n",
       "  {'name': 'transcript_reference', 'value': 'NM_000321.2'}]}"
      ]
     },
     "execution_count": 10,
     "metadata": {},
     "output_type": "execute_result"
    }
   ],
   "source": [
    "vrsatile_substitution = {\n",
    "    'id': 'allele001',\n",
    "    'variation': substitution.as_dict(),\n",
    "    'label': 'RB1 c.958C>T (p.Arg320Ter)',\n",
    "    'molecule_context': 'transcript',\n",
    "    'gene_context': {\n",
    "        'value_id': 'hgnc:9884',\n",
    "        'symbol': 'RB1',\n",
    "    },\n",
    "    'expressions': [{\n",
    "        'syntax': 'hgvs.c',\n",
    "        'value': 'NM_000321.2:c.958C>T',\n",
    "        'version': '20.05'\n",
    "    }],\n",
    "    'extensions': [{\n",
    "        'name': 'Allele Frequency',\n",
    "        'value': 0.25\n",
    "    },{\n",
    "        'name': 'transcript_reference',\n",
    "        'value': 'NM_000321.2'\n",
    "    }]\n",
    "}\n",
    "vrsatile_substitution"
   ]
  }
 ],
 "metadata": {
  "kernelspec": {
   "display_name": "Python 3 (ipykernel)",
   "language": "python",
   "name": "python3"
  },
  "language_info": {
   "codemirror_mode": {
    "name": "ipython",
    "version": 3
   },
   "file_extension": ".py",
   "mimetype": "text/x-python",
   "name": "python",
   "nbconvert_exporter": "python",
   "pygments_lexer": "ipython3",
   "version": "3.9.9"
  }
 },
 "nbformat": 4,
 "nbformat_minor": 5
}
