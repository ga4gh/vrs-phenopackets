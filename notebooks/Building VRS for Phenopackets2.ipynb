{
 "cells": [
  {
   "cell_type": "markdown",
   "id": "df195785-3104-4a62-9f6e-0716e7bca71a",
   "metadata": {},
   "source": [
    "# Building VRS objects for Phenopackets v2\n",
    "\n",
    "This notebook generates VRS objects for use in Phenopackets, as described in *GA4GH Phenopackets: A practical introduction*."
   ]
  },
  {
   "cell_type": "markdown",
   "id": "72df3601-e227-44a3-9030-55d1d6492552",
   "metadata": {},
   "source": [
    "First, we will want to import VRS Python, the reference implementation for generating VRS objects. We are going to use the `0.7` version of VRS Python, which corresponds to VRS version `1.2`, as used in Phenopackets.\n",
    "\n",
    "We are also going to use the VRS python Extras, including the SeqRepo package for sequence lookups."
   ]
  },
  {
   "cell_type": "code",
   "execution_count": 43,
   "id": "627c44ba-8a58-45e4-8655-45b5413ec0c0",
   "metadata": {},
   "outputs": [],
   "source": [
    "from ga4gh import vrs, core\n",
    "from ga4gh.vrs.dataproxy import SeqRepoDataProxy\n",
    "from biocommons.seqrepo import SeqRepo\n",
    "from ga4gh.vrs.extras.translator import Translator\n",
    "\n",
    "dp = SeqRepoDataProxy(SeqRepo('/usr/local/share/seqrepo/latest'))\n",
    "tlr = Translator(dp)"
   ]
  },
  {
   "cell_type": "code",
   "execution_count": 39,
   "id": "2b3ef1aa-09cf-41db-ad1e-99dbeda35fc9",
   "metadata": {},
   "outputs": [
    {
     "data": {
      "text/plain": [
       "'0.7.4'"
      ]
     },
     "execution_count": 39,
     "metadata": {},
     "output_type": "execute_result"
    }
   ],
   "source": [
    "# NOTE: VRS here is the VRS Python package, not the VRS specification; \n",
    "# accordingly vrs.__version__ is the VRS Python version. \n",
    "# Phenopackets v2 requires VRS Python v0.7.x, which is based on VRS 1.2\n",
    "ga4gh.vrs.__version__"
   ]
  },
  {
   "cell_type": "markdown",
   "id": "49c7fe64-6978-4558-ba54-3c7ce5647733",
   "metadata": {},
   "source": [
    "## Example 1\n",
    "> ... The detected values were relatively low but within the normal range and a complete RB1 deletion in mosaicism was suspected. A genomic SNP array (AffymetrixCytoScan 750 array) was performed and a 13q deletion of 35.7 Mb from 13q12.13 to 13q21.2 (arr[hg19] 13q12.13q21.2(26,555,387–62,280,955) × 1–2) detected in around 40% of cells was confirmed.\n",
    "\n",
    "This example will demonstrate how to specify the above using VRS and (**TODO**) VRSATILE.\n",
    "\n",
    "First, we identify the sequence on which the deletion occurred. We start by retrieving the sequence identifier for [GRCh37 chromosome 13](https://www.ncbi.nlm.nih.gov/nuccore/NC_000013.10):"
   ]
  },
  {
   "cell_type": "code",
   "execution_count": 69,
   "id": "e6f9d9e1-576c-43bb-8169-862ca86a9d9b",
   "metadata": {},
   "outputs": [
    {
     "data": {
      "text/plain": [
       "'ga4gh:SQ.Ewb9qlgTqN6e_XQiRVYpoUfZJHXeiUfH'"
      ]
     },
     "execution_count": 69,
     "metadata": {},
     "output_type": "execute_result"
    }
   ],
   "source": [
    "def translate_sequence_alias_to_ga4gh_id(sequence_alias):\n",
    "    translated_ids = dp.translate_sequence_identifier(sequence_alias,'ga4gh')\n",
    "    assert len(translated_ids) == 1 # Any given sequence should only have 1 GA4GH-namespaced identifier\n",
    "    return translated_ids[0]\n",
    "    \n",
    "chr13_grch37_seq_id = translate_sequence_alias_to_ga4gh_id('GRCh37:chr13')\n",
    "chr13_grch37_seq_id"
   ]
  },
  {
   "cell_type": "markdown",
   "id": "9e66f9d2-3c75-4ca6-9cde-4aa58011259d",
   "metadata": {},
   "source": [
    "As an aside, other metadata (including other accessions) for a given sequence is also retrievable:"
   ]
  },
  {
   "cell_type": "code",
   "execution_count": 70,
   "id": "9ac7c96f-fe12-46d3-ace0-5367c573297d",
   "metadata": {},
   "outputs": [
    {
     "data": {
      "text/plain": [
       "{'length': 115169878,\n",
       " 'alphabet': 'ACGNT',\n",
       " 'added': '2016-08-24T05:10:23Z',\n",
       " 'aliases': ['GRCh37:13',\n",
       "  'GRCh37:chr13',\n",
       "  'GRCh37.p10:13',\n",
       "  'GRCh37.p10:chr13',\n",
       "  'GRCh37.p11:13',\n",
       "  'GRCh37.p11:chr13',\n",
       "  'GRCh37.p12:13',\n",
       "  'GRCh37.p12:chr13',\n",
       "  'GRCh37.p13:13',\n",
       "  'GRCh37.p13:chr13',\n",
       "  'GRCh37.p2:13',\n",
       "  'GRCh37.p2:chr13',\n",
       "  'GRCh37.p5:13',\n",
       "  'GRCh37.p5:chr13',\n",
       "  'GRCh37.p9:13',\n",
       "  'GRCh37.p9:chr13',\n",
       "  'MD5:283f8d7892baa81b510a015719ca7b0b',\n",
       "  'NCBI:NC_000013.10',\n",
       "  'refseq:NC_000013.10',\n",
       "  'SEGUID:oYfOuGjgq2YenMDoPeWgsO+hJRI',\n",
       "  'SHA1:a187ceb868e0ab661e9cc0e83de5a0b0efa12512',\n",
       "  'VMC:GS_Ewb9qlgTqN6e_XQiRVYpoUfZJHXeiUfH',\n",
       "  'sha512t24u:Ewb9qlgTqN6e_XQiRVYpoUfZJHXeiUfH',\n",
       "  'ga4gh:SQ.Ewb9qlgTqN6e_XQiRVYpoUfZJHXeiUfH',\n",
       "  'hs37-1kg:13',\n",
       "  'hs37d5:13']}"
      ]
     },
     "execution_count": 70,
     "metadata": {},
     "output_type": "execute_result"
    }
   ],
   "source": [
    "dp.get_metadata('GRCh37:chr13')"
   ]
  },
  {
   "cell_type": "markdown",
   "id": "c6b98042-bf90-44b7-9ffc-09d604509bc7",
   "metadata": {},
   "source": [
    "With our knowledge of the sequence identifier, we can now define an interval on that sequence to describe the location of the deletion:"
   ]
  },
  {
   "cell_type": "code",
   "execution_count": 71,
   "id": "e21e69eb-3b12-4682-8f2d-6349bdf20c23",
   "metadata": {},
   "outputs": [],
   "source": [
    "location_start = vrs.models.Number(value=26555377) # NOTE: VRS uses inter-residue coordinates\n",
    "location_end   = vrs.models.Number(value=62280955)\n",
    "interval = vrs.models.SequenceInterval(start=location_start, end=location_end)\n",
    "\n",
    "deletion_location = vrs.models.SequenceLocation(sequence_id=chr13_grch37_seq_id, interval=interval)"
   ]
  },
  {
   "cell_type": "markdown",
   "id": "0eef23c4-ab5f-450d-bf76-3ca78e1a7235",
   "metadata": {},
   "source": [
    "From there, we describe a single-copy state of the location using a CopyNumber variation, along with its globally-unique computed identifier:"
   ]
  },
  {
   "cell_type": "code",
   "execution_count": 72,
   "id": "04ddfe9e-6a2f-42e1-9291-bb5f580aba85",
   "metadata": {},
   "outputs": [
    {
     "data": {
      "text/plain": [
       "{'_id': 'ga4gh:VCN.AFfJws1M4Lg8w1O3XknmHYc9TU2hHYpp',\n",
       " 'type': 'CopyNumber',\n",
       " 'subject': {'type': 'DerivedSequenceExpression',\n",
       "  'location': {'type': 'SequenceLocation',\n",
       "   'sequence_id': 'ga4gh:SQ.Ewb9qlgTqN6e_XQiRVYpoUfZJHXeiUfH',\n",
       "   'interval': {'type': 'SequenceInterval',\n",
       "    'start': {'type': 'Number', 'value': 26555377},\n",
       "    'end': {'type': 'Number', 'value': 62280955}}},\n",
       "  'reverse_complement': False},\n",
       " 'copies': {'type': 'Number', 'value': 1}}"
      ]
     },
     "execution_count": 72,
     "metadata": {},
     "output_type": "execute_result"
    }
   ],
   "source": [
    "dsl = vrs.models.DerivedSequenceExpression(location=deletion_location, reverse_complement=False)\n",
    "cnv = vrs.models.CopyNumber(subject=dsl, copies=vrs.models.Number(value=1))\n",
    "cnv._id = core.ga4gh_identify(cnv)\n",
    "cnv.for_json()"
   ]
  },
  {
   "cell_type": "markdown",
   "id": "d777c9e3-d885-424f-80d1-29fefe6f58fa",
   "metadata": {},
   "source": [
    "**NOTE:** Location-based CopyNumberVariation subjects are currently described using DerivedSequenceExpression as shown above, but we will also be allowing Location as a direct subject in an upcoming minor version release of VRS; we believe this is more intuitive for users. We will update this notebook if / when those changes are integrated into Phenopackets."
   ]
  },
  {
   "cell_type": "markdown",
   "id": "cc0f72b4-934a-4a35-a974-426b69f12d34",
   "metadata": {},
   "source": [
    "**TODO:** Use VRSATILE schema from Phenopackets to capture mosaicism"
   ]
  },
  {
   "cell_type": "markdown",
   "id": "0fe42d3a-5f0e-43b6-a2f2-ba51297dcc43",
   "metadata": {},
   "source": [
    "## Example 2\n",
    ">Looking for second hit mutations in RB1, we applied a custom designed NGS panel (Onconano V2) that included the RB1, BCOR and CREBPP genes (among other 400 commonly mutated genes in pediatric cancer). The study detected only one pathogenic single-nucleotide variant, RB1 c.958C>T (p.Arg320Ter) (NM_000321.2 chromosomal position 13–48,941,648-C-T; allele frequency of 25%).\n",
    "\n",
    "For this example, we model t"
   ]
  },
  {
   "cell_type": "code",
   "execution_count": 76,
   "id": "ceb23b8e-3046-4d83-af36-87154444b101",
   "metadata": {},
   "outputs": [
    {
     "data": {
      "text/plain": [
       "{'_id': 'ga4gh:VA.GuPzvZoansqNHPoXkQLXKo31VkTpDKsM',\n",
       " 'type': 'Allele',\n",
       " 'location': {'type': 'SequenceLocation',\n",
       "  'sequence_id': 'ga4gh:SQ.FOWokFmA__GgqWLtqFoWWDLuNEvvGwIJ',\n",
       "  'interval': {'type': 'SequenceInterval',\n",
       "   'start': {'type': 'Number', 'value': 48941647},\n",
       "   'end': {'type': 'Number', 'value': 48941648}}},\n",
       " 'state': {'type': 'LiteralSequenceExpression', 'sequence': 'T'}}"
      ]
     },
     "execution_count": 76,
     "metadata": {},
     "output_type": "execute_result"
    }
   ],
   "source": [
    "location_start = vrs.models.Number(value=48941647)\n",
    "location_end = vrs.models.Number(value=48941648)\n",
    "substitution_interval = vrs.models.SequenceInterval(start=location_start, end=location_end)\n",
    "\n",
    "transcript_sequence_id = translate_sequence_alias_to_ga4gh_id('refseq:NM_000321.2')\n",
    "\n",
    "location = vrs.models.SequenceLocation(sequence_id=transcript_sequence_id, interval=substitution_interval)\n",
    "state = vrs.models.LiteralSequenceExpression(sequence='T')\n",
    "\n",
    "substitution = vrs.models.Allele(location=location, state=state)\n",
    "substitution._id = core.ga4gh_identify(substitution)\n",
    "\n",
    "substitution.for_json()"
   ]
  },
  {
   "cell_type": "markdown",
   "id": "04b56ab5-20b9-4615-a071-2535dc86cb6c",
   "metadata": {},
   "source": [
    "**TODO:** Use VRSATILE schema from Phenopackets to capture VAF"
   ]
  }
 ],
 "metadata": {
  "kernelspec": {
   "display_name": "Python 3 (ipykernel)",
   "language": "python",
   "name": "python3"
  },
  "language_info": {
   "codemirror_mode": {
    "name": "ipython",
    "version": 3
   },
   "file_extension": ".py",
   "mimetype": "text/x-python",
   "name": "python",
   "nbconvert_exporter": "python",
   "pygments_lexer": "ipython3",
   "version": "3.9.9"
  }
 },
 "nbformat": 4,
 "nbformat_minor": 5
}
